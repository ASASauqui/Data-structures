{
 "cells": [
  {
   "cell_type": "markdown",
   "metadata": {},
   "source": [
    "# Intercambio de monedas"
   ]
  },
  {
   "cell_type": "code",
   "execution_count": 6,
   "metadata": {},
   "outputs": [
    {
     "name": "stdout",
     "output_type": "stream",
     "text": [
      "Monedas de: \n",
      "\n",
      "Cincuenta: 1\n",
      "Diez: 2\n",
      "Cinco: 1\n",
      "Dos: 1\n",
      "Uno: 1\n"
     ]
    }
   ],
   "source": [
    "cantidad = 78\n",
    "monedas = [100,50,10,5,2,1]\n",
    "cantidad_monedas = [int,int,int,int,int,int]\n",
    "monedas_let = ['Cien','Cincuenta','Diez','Cinco','Dos','Uno']\n",
    "# Código\n",
    "\n",
    "for i in range(0,len(monedas),1):\n",
    "    cantidad_monedas[i] = int(cantidad/monedas[i])\n",
    "    cantidad %= monedas[i]\n",
    "\n",
    "print(\"Monedas de: \\n\")\n",
    "for i in range(0,len(monedas),1):\n",
    "    if cantidad_monedas[i] > 0:\n",
    "        print(monedas_let[i]+\": \"+str(cantidad_monedas[i]))\n",
    "    \n",
    "#cantidad_monedas = [0,3,1,1,1]"
   ]
  },
  {
   "cell_type": "code",
   "execution_count": null,
   "metadata": {},
   "outputs": [],
   "source": []
  }
 ],
 "metadata": {
  "kernelspec": {
   "display_name": "Python 3",
   "language": "python",
   "name": "python3"
  },
  "language_info": {
   "codemirror_mode": {
    "name": "ipython",
    "version": 3
   },
   "file_extension": ".py",
   "mimetype": "text/x-python",
   "name": "python",
   "nbconvert_exporter": "python",
   "pygments_lexer": "ipython3",
   "version": "3.8.3"
  }
 },
 "nbformat": 4,
 "nbformat_minor": 4
}
