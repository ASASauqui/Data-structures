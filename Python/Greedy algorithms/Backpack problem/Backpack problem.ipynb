{
 "cells": [
  {
   "cell_type": "markdown",
   "metadata": {},
   "source": [
    "## Problema de la mochila"
   ]
  },
  {
   "cell_type": "code",
   "execution_count": 1,
   "metadata": {},
   "outputs": [
    {
     "name": "stdout",
     "output_type": "stream",
     "text": [
      "1 objetos con ganancia de 20 y peso de 2\n",
      "1 objetos con ganancia de 5 y peso de 1\n",
      "1 objetos con ganancia de 2 y peso de 2\n",
      "Peso restante = 0\n"
     ]
    }
   ],
   "source": [
    "capacidad = 5\n",
    "contador = 0\n",
    "objetos_peso = [2,1,2,2]\n",
    "objetos_ganancia = [20,5,2,2]\n",
    "ganancia_perk = [0 for i in range(4)]\n",
    "objetos_cantidad = [0 for i in range(4)]\n",
    "\n",
    "# Código\n",
    "for i in range(0,len(objetos_peso),1):\n",
    "    ganancia_perk[i] = objetos_ganancia[i]/objetos_peso[i]\n",
    "\n",
    "\n",
    "lista = list(zip(ganancia_perk, objetos_peso, objetos_cantidad, objetos_ganancia))\n",
    "lista.sort(reverse=True)\n",
    "\n",
    "for i in range(0,len(objetos_peso),1):\n",
    "    lista[i] = list(lista[i]) \n",
    "#print(lista)\n",
    "\n",
    "while capacidad > 0:\n",
    "    contador = 0\n",
    "    for i in range(0,len(objetos_peso),1):\n",
    "        if capacidad-lista[i][1]>=0:\n",
    "            lista[i][2] += 1\n",
    "            capacidad -= lista[i][1]\n",
    "        else:\n",
    "            contador += 1\n",
    "    if contador == len(objetos_peso):\n",
    "        break\n",
    "\n",
    "#print(lista)\n",
    "\n",
    "for i in range(0,len(objetos_peso),1):\n",
    "    if lista[i][2] > 0:\n",
    "        print(str(lista[i][2]) + \" objetos con ganancia de \" + str(lista[i][3]) + \" y peso de \" + str(lista[i][1]))\n",
    "    \n",
    "print(\"Peso restante = \" + str(capacidad) )"
   ]
  }
 ],
 "metadata": {
  "kernelspec": {
   "display_name": "Python 3",
   "language": "python",
   "name": "python3"
  },
  "language_info": {
   "codemirror_mode": {
    "name": "ipython",
    "version": 3
   },
   "file_extension": ".py",
   "mimetype": "text/x-python",
   "name": "python",
   "nbconvert_exporter": "python",
   "pygments_lexer": "ipython3",
   "version": "3.8.3"
  }
 },
 "nbformat": 4,
 "nbformat_minor": 4
}
