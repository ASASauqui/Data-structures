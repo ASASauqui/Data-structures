{
 "cells": [
  {
   "cell_type": "code",
   "execution_count": 11,
   "metadata": {},
   "outputs": [],
   "source": [
    "class Node:\n",
    "    def __init__(self,data):\n",
    "        self.next = None\n",
    "        self.data = data\n",
    "        \n",
    "    def __str__(self):\n",
    "        s = str(self.data)\n",
    "        s += \" &: \" + str(hex(id(self)))\n",
    "        s += \" next: \" + str(hex(id(self.next))) #Direcciones en Python"
   ]
  },
  {
   "cell_type": "code",
   "execution_count": 18,
   "metadata": {},
   "outputs": [
    {
     "name": "stdout",
     "output_type": "stream",
     "text": [
      "[5, 10, 123, 3, 9, 23, 44, ]\n",
      "[5, 10, 123, 3, 9, 23, ]\n"
     ]
    }
   ],
   "source": [
    "class CircularLinkedList:\n",
    "    def __init__(self):\n",
    "        self.head = None\n",
    "            \n",
    "    def insert_head(self,data):\n",
    "        n = Node(data)\n",
    "        if self.head is None:\n",
    "            self.head = n\n",
    "        else:\n",
    "            aux = self.head\n",
    "            while aux.next is not self.head:\n",
    "                aux = aux.next\n",
    "            aux.next = n\n",
    "        n.next = self.head\n",
    "        self.head = n\n",
    "            \n",
    "    def insert_tail(self,data):\n",
    "        n = Node(data)\n",
    "        if self.head is None:\n",
    "            self.head = n\n",
    "        else:\n",
    "            aux = self.head\n",
    "            while aux.next is not self.head:\n",
    "                aux = aux.next\n",
    "            aux.next = n\n",
    "        n.next = self.head\n",
    "    \n",
    "    def remove(self,data):\n",
    "        aux = self.head\n",
    "        \n",
    "        if (self.head.data is data) and (self.head.next is self.head):\n",
    "            self.head = None\n",
    "            return\n",
    "        \n",
    "        if self.head.data is data:\n",
    "            while aux.next is not self.head:\n",
    "                aux = aux.next\n",
    "            self.head = aux.next.next\n",
    "            aux.next = aux.next.next\n",
    "            return\n",
    "        \n",
    "        while aux.next is not self.head:\n",
    "            if aux.next.data is data:\n",
    "                aux.next = aux.next.next\n",
    "                return\n",
    "            aux = aux.next\n",
    "        \n",
    "        \n",
    "            \n",
    "    def __str__(self):\n",
    "        if self.head is None:\n",
    "            return \"[]\"\n",
    "        s = \"[\"\n",
    "        aux = self.head\n",
    "        while True:\n",
    "            s += str(aux.data) + \", \"\n",
    "            if aux.next is self.head:\n",
    "                break\n",
    "            else:\n",
    "                aux = aux.next\n",
    "        return s + \"]\"\n",
    "    \n",
    "l = CircularLinkedList()\n",
    "l.insert_tail(3)\n",
    "l.insert_tail(9)\n",
    "l.insert_head(123)\n",
    "l.insert_head(10)\n",
    "l.insert_tail(23)\n",
    "l.insert_tail(44)\n",
    "l.insert_head(5)\n",
    "print(l)\n",
    "l.remove(44)\n",
    "\n",
    "print(l)"
   ]
  },
  {
   "cell_type": "code",
   "execution_count": null,
   "metadata": {},
   "outputs": [],
   "source": []
  },
  {
   "cell_type": "code",
   "execution_count": null,
   "metadata": {},
   "outputs": [],
   "source": []
  }
 ],
 "metadata": {
  "kernelspec": {
   "display_name": "Python 3",
   "language": "python",
   "name": "python3"
  },
  "language_info": {
   "codemirror_mode": {
    "name": "ipython",
    "version": 3
   },
   "file_extension": ".py",
   "mimetype": "text/x-python",
   "name": "python",
   "nbconvert_exporter": "python",
   "pygments_lexer": "ipython3",
   "version": "3.8.3"
  }
 },
 "nbformat": 4,
 "nbformat_minor": 4
}
