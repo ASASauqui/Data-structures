{
 "cells": [
  {
   "cell_type": "code",
   "execution_count": 3,
   "metadata": {},
   "outputs": [],
   "source": [
    "class Node:\n",
    "    def __init__(self,data):\n",
    "        self.next = None\n",
    "        self.data = data\n",
    "        \n",
    "    def __str__(self):\n",
    "        s = str(self.data)\n",
    "        s += \" &: \" + str(hex(id(self)))\n",
    "        s += \" next: \" + str(hex(id(self.next))) #Direcciones en Python\n",
    "        return s "
   ]
  },
  {
   "cell_type": "code",
   "execution_count": 4,
   "metadata": {},
   "outputs": [
    {
     "name": "stdout",
     "output_type": "stream",
     "text": [
      "23 &: 0x1e2a64d7a90 next: 0x1e2a64d7a30, 10 &: 0x1e2a64d7a30 next: 0x1e2a64d7a60, 9 &: 0x1e2a64d7a60 next: 0x7ff808fca880, \n",
      "50 &: 0x1e2a64ddeb0 next: 0x1e2a64d7a30, 10 &: 0x1e2a64d7a30 next: 0x1e2a64d7a60, 9 &: 0x1e2a64d7a60 next: 0x7ff808fca880, \n"
     ]
    }
   ],
   "source": [
    "class SinglyLinkedList:\n",
    "    def __init__(self):\n",
    "        self.head = None\n",
    "        \n",
    "    def insert_tail(self,data):\n",
    "        n = Node(data)\n",
    "        if self.head is None:\n",
    "            self.head = n\n",
    "        else:\n",
    "            aux = self.head\n",
    "            while aux.next is not None:\n",
    "                aux = aux.next\n",
    "            aux.next = n\n",
    "            \n",
    "    def insert_head(self,data):\n",
    "        n = Node(data)\n",
    "        if self.head is None:\n",
    "            self.head = n\n",
    "        else:          \n",
    "            n.next = self.head\n",
    "            self.head = n\n",
    "            \n",
    "    def remove(self,data):\n",
    "        aux = self.head\n",
    "        if self.head.data is data: \n",
    "            self.head = self.head.next\n",
    "            return\n",
    "        \n",
    "        while aux.next is not None:  \n",
    "            if aux.next.data is data:\n",
    "                break\n",
    "            aux = aux.next\n",
    "        \n",
    "        if aux.next is None:\n",
    "            return\n",
    "        aux.next = aux.next.next\n",
    "            \n",
    "        \n",
    "        \n",
    "        \n",
    "    def reverse(self,data): ##No en el examen\n",
    "        pass\n",
    "            \n",
    "    def __str__(self):\n",
    "        if self.head is None:\n",
    "            return \"[]\"\n",
    "        else:\n",
    "            aux = self.head\n",
    "            s = \"\"\n",
    "            while aux is not None:\n",
    "                s += aux.__str__() + \", \"\n",
    "                aux = aux.next\n",
    "            return s\n",
    "    \n",
    "l = SinglyLinkedList()\n",
    "l.insert_tail(9)\n",
    "l.insert_head(10)\n",
    "l.insert_head(23)\n",
    "print(l)\n",
    "l.remove(23)\n",
    "l.insert_head(50)\n",
    "print(l)"
   ]
  },
  {
   "cell_type": "code",
   "execution_count": null,
   "metadata": {},
   "outputs": [],
   "source": []
  }
 ],
 "metadata": {
  "kernelspec": {
   "display_name": "Python 3",
   "language": "python",
   "name": "python3"
  },
  "language_info": {
   "codemirror_mode": {
    "name": "ipython",
    "version": 3
   },
   "file_extension": ".py",
   "mimetype": "text/x-python",
   "name": "python",
   "nbconvert_exporter": "python",
   "pygments_lexer": "ipython3",
   "version": "3.8.3"
  }
 },
 "nbformat": 4,
 "nbformat_minor": 4
}
